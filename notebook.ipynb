{
 "cells": [
  {
   "cell_type": "code",
   "execution_count": 23,
   "id": "4c2a7d6f",
   "metadata": {},
   "outputs": [],
   "source": [
    "#!/usr/bin/env python3\n",
    "\n",
    "from sklearn.ensemble import RandomForestClassifier\n",
    "from sklearn import svm\n",
    "from sklearn import datasets\n",
    "from sklearn.model_selection import train_test_split\n",
    "from sklearn.metrics import accuracy_score\n",
    "import pickle\n",
    "import pandas as pd\n",
    "import numpy as np"
   ]
  },
  {
   "cell_type": "code",
   "execution_count": 2,
   "id": "fedbd73d",
   "metadata": {},
   "outputs": [],
   "source": [
    "#Load the dataset\n",
    "iris = datasets.load_iris()\n",
    "X, y = iris.data, iris.target"
   ]
  },
  {
   "cell_type": "code",
   "execution_count": 3,
   "id": "539fdca5",
   "metadata": {},
   "outputs": [],
   "source": [
    "#Split the data\n",
    "X_train, X_test, y_train, y_test = train_test_split(X, y, random_state=75, test_size=0.75)"
   ]
  },
  {
   "cell_type": "code",
   "execution_count": 4,
   "id": "8727faaf",
   "metadata": {},
   "outputs": [
    {
     "data": {
      "text/plain": [
       "SVC(gamma='auto')"
      ]
     },
     "execution_count": 4,
     "metadata": {},
     "output_type": "execute_result"
    }
   ],
   "source": [
    "#Compile our Support Vector Classifier model with training. \n",
    "model_svc = svm.SVC(gamma='auto')\n",
    "model_svc.fit(X_train, y_train)"
   ]
  },
  {
   "cell_type": "code",
   "execution_count": 5,
   "id": "b8493cae",
   "metadata": {},
   "outputs": [
    {
     "name": "stdout",
     "output_type": "stream",
     "text": [
      "Accuracy of Support Vector Classifier is: 0.973\n"
     ]
    }
   ],
   "source": [
    "#Get accuracy score of the SVM model.\n",
    "accuracy_svc = model_svc.score(X_test, y_test)\n",
    "print(\"Accuracy of Support Vector Classifier is: {}\".format(round(accuracy_svc, 3)))"
   ]
  },
  {
   "cell_type": "code",
   "execution_count": 10,
   "id": "6a9a02c0",
   "metadata": {},
   "outputs": [
    {
     "data": {
      "text/plain": [
       "RandomForestClassifier(n_estimators=25)"
      ]
     },
     "execution_count": 10,
     "metadata": {},
     "output_type": "execute_result"
    }
   ],
   "source": [
    "#Compile the Random Forest Classifier model with training.\n",
    "model_rfc = RandomForestClassifier(n_estimators=25)\n",
    "model_rfc.fit(X_train, y_train)"
   ]
  },
  {
   "cell_type": "code",
   "execution_count": 11,
   "id": "0018be82",
   "metadata": {},
   "outputs": [
    {
     "name": "stdout",
     "output_type": "stream",
     "text": [
      "Accuracy of Random Forest Classifier is: 0.965\n"
     ]
    }
   ],
   "source": [
    "#Get accurcy score of the RFC model\n",
    "accuracy_rfc = model_rfc.score(X_test, y_test)\n",
    "print(\"Accuracy of Random Forest Classifier is: {}\".format(round(accuracy_rfc, 3)))"
   ]
  },
  {
   "cell_type": "code",
   "execution_count": 24,
   "id": "608e0dc0",
   "metadata": {},
   "outputs": [],
   "source": [
    "with open('./model_files/model_svc.pkl', 'wb') as model_svc_pickle:\n",
    "    pickle.dump(model_svc, model_svc_pickle)"
   ]
  },
  {
   "cell_type": "code",
   "execution_count": 25,
   "id": "fbce329d",
   "metadata": {},
   "outputs": [],
   "source": [
    "with open('./model_files/model_rfc.pkl', 'wb') as model_rfc_pickle:\n",
    "    pickle.dump(model_rfc, model_rfc_pickle)"
   ]
  },
  {
   "cell_type": "code",
   "execution_count": 20,
   "id": "73f95440",
   "metadata": {},
   "outputs": [],
   "source": [
    "#Input Data for predictions\n",
    "input_data = np.array([[5, 2, 6, 4]])\n",
    "prediction = model_svc.predict(input_data)"
   ]
  },
  {
   "cell_type": "markdown",
   "id": "d8ed8c47",
   "metadata": {},
   "source": [
    "Endpoint to predict the species of Iris [0: 'Setosa', 1: 'Versicolor', 2: 'Virginica'] using Support Vector Machine"
   ]
  },
  {
   "cell_type": "code",
   "execution_count": 21,
   "id": "99f334fc",
   "metadata": {},
   "outputs": [
    {
     "name": "stdout",
     "output_type": "stream",
     "text": [
      "[2]\n"
     ]
    }
   ],
   "source": [
    "print(str(prediction))"
   ]
  },
  {
   "cell_type": "code",
   "execution_count": null,
   "id": "1f587c91",
   "metadata": {},
   "outputs": [],
   "source": []
  }
 ],
 "metadata": {
  "kernelspec": {
   "display_name": "Python 3",
   "language": "python",
   "name": "python3"
  },
  "language_info": {
   "codemirror_mode": {
    "name": "ipython",
    "version": 3
   },
   "file_extension": ".py",
   "mimetype": "text/x-python",
   "name": "python",
   "nbconvert_exporter": "python",
   "pygments_lexer": "ipython3",
   "version": "3.8.8"
  }
 },
 "nbformat": 4,
 "nbformat_minor": 5
}
